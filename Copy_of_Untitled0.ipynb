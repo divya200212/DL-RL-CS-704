{
  "nbformat": 4,
  "nbformat_minor": 0,
  "metadata": {
    "colab": {
      "provenance": [],
      "authorship_tag": "ABX9TyMzQa8xX2xGWi8s8av4gtwM",
      "include_colab_link": true
    },
    "kernelspec": {
      "name": "python3",
      "display_name": "Python 3"
    },
    "language_info": {
      "name": "python"
    }
  },
  "cells": [
    {
      "cell_type": "markdown",
      "metadata": {
        "id": "view-in-github",
        "colab_type": "text"
      },
      "source": [
        "<a href=\"https://colab.research.google.com/github/divya200212/DL-RL-CS-704/blob/main/Copy_of_Untitled0.ipynb\" target=\"_parent\"><img src=\"https://colab.research.google.com/assets/colab-badge.svg\" alt=\"Open In Colab\"/></a>"
      ]
    },
    {
      "cell_type": "code",
      "execution_count": null,
      "metadata": {
        "colab": {
          "base_uri": "https://localhost:8080/"
        },
        "id": "xfKKlCrzABUj",
        "outputId": "f379c5a1-a153-448a-f598-dc95f88354fe"
      },
      "outputs": [
        {
          "output_type": "stream",
          "name": "stdout",
          "text": [
            "1D Array: [1 2 3 4 5]\n",
            "2D Array:\n",
            " [[1 2 3]\n",
            " [4 5 6]]\n",
            "Zeros Array:\n",
            " [[0. 0. 0.]\n",
            " [0. 0. 0.]\n",
            " [0. 0. 0.]]\n",
            "Ones Array:\n",
            " [[1. 1.]\n",
            " [1. 1.]]\n"
          ]
        }
      ],
      "source": [
        "import numpy as np\n",
        "array_1d = np.array([1, 2, 3, 4, 5])\n",
        "print(\"1D Array:\", array_1d)\n",
        "array_2d = np.array([[1, 2, 3], [4, 5, 6]])\n",
        "print(\"2D Array:\\n\", array_2d)\n",
        "# Create an array with zeros\n",
        "zeros_array = np.zeros((3, 3))\n",
        "print(\"Zeros Array:\\n\", zeros_array)\n",
        "# Create an array with ones\n",
        "ones_array = np.ones((2, 2))\n",
        "print(\"Ones Array:\\n\", ones_array)"
      ]
    },
    {
      "cell_type": "code",
      "source": [],
      "metadata": {
        "id": "PH4eXBS5klfB"
      },
      "execution_count": null,
      "outputs": []
    },
    {
      "cell_type": "code",
      "source": [
        "import numpy as np\n",
        "\n",
        "# Create two arrays\n",
        "a = np.array([1, 2, 3])\n",
        "b = np.array([4, 5, 6])\n",
        "# Addition\n",
        "sum_array = np.add(a, b)\n",
        "print(\"Sum:\", sum_array)\n",
        "# Subtraction\n",
        "diff_array = np.subtract(a, b)\n",
        "print(\"Difference:\", diff_array)\n",
        "# Multiplication\n",
        "product_array = np.multiply(a, b)\n",
        "print(\"Product:\", product_array)\n",
        "# Division\n",
        "quotient_array = np.divide(a, b)\n",
        "print(\"Quotient:\", quotient_array)"
      ],
      "metadata": {
        "colab": {
          "base_uri": "https://localhost:8080/"
        },
        "id": "_k_qzFmmCAQA",
        "outputId": "dc529417-6c80-4044-d734-01d18db0cfe5"
      },
      "execution_count": null,
      "outputs": [
        {
          "output_type": "stream",
          "name": "stdout",
          "text": [
            "Sum: [5 7 9]\n",
            "Difference: [-3 -3 -3]\n",
            "Product: [ 4 10 18]\n",
            "Quotient: [0.25 0.4  0.5 ]\n"
          ]
        }
      ]
    },
    {
      "cell_type": "code",
      "source": [
        "import numpy as np\n",
        "# Create two matrices\n",
        "matrix_a = np.array([[1, 2], [3, 4]])\n",
        "matrix_b = np.array([[5, 6], [7, 8]])\n",
        "# Matrix multiplication\n",
        "matrix_product = np.dot(matrix_a, matrix_b)\n",
        "print(\"Matrix Product:\\n\", matrix_product)"
      ],
      "metadata": {
        "colab": {
          "base_uri": "https://localhost:8080/"
        },
        "id": "e86OwZ43CwKf",
        "outputId": "5a5647c7-7c6b-4a76-a33d-04fcd7994aa8"
      },
      "execution_count": null,
      "outputs": [
        {
          "output_type": "stream",
          "name": "stdout",
          "text": [
            "Matrix Product:\n",
            " [[19 22]\n",
            " [43 50]]\n"
          ]
        }
      ]
    },
    {
      "cell_type": "code",
      "source": [
        "import numpy as np\n",
        "# Create an array and a scalar\n",
        "array = np.array([1, 2, 3])\n",
        "scalar = 2\n",
        "# Broadcasting\n",
        "broadcasted_array = array * scalar\n",
        "print(\"Broadcasted Array:\", broadcasted_array)"
      ],
      "metadata": {
        "colab": {
          "base_uri": "https://localhost:8080/"
        },
        "id": "FADKAPTNC6tZ",
        "outputId": "a1ccdbe8-d695-4e78-bf10-33bbef86d152"
      },
      "execution_count": null,
      "outputs": [
        {
          "output_type": "stream",
          "name": "stdout",
          "text": [
            "Broadcasted Array: [2 4 6]\n"
          ]
        }
      ]
    },
    {
      "cell_type": "code",
      "source": [
        "import numpy as np\n",
        "# Create an array\n",
        "data = np.array([1, 2, 3, 4, 5])\n",
        "# Mean\n",
        "mean_value = np.mean(data)\n",
        "print(\"Mean:\", mean_value)\n",
        "# Standard deviation\n",
        "std_value = np.std(data)\n",
        "print(\"Standard Deviation:\", std_value)\n",
        "# Sum\n",
        "sum_value = np.sum(data)\n",
        "print(\"Sum:\", sum_value)"
      ],
      "metadata": {
        "colab": {
          "base_uri": "https://localhost:8080/"
        },
        "id": "3uhPRmRSDMTX",
        "outputId": "c704816b-eb46-4d63-cea8-f2f90de0cd98"
      },
      "execution_count": null,
      "outputs": [
        {
          "output_type": "stream",
          "name": "stdout",
          "text": [
            "Mean: 3.0\n",
            "Standard Deviation: 1.4142135623730951\n",
            "Sum: 15\n"
          ]
        }
      ]
    },
    {
      "cell_type": "code",
      "source": [
        "import numpy as np\n",
        "# Create a 1D array\n",
        "array = np.array([1, 2, 3, 4, 5, 6])\n",
        "# Reshape to 2x3\n",
        "reshaped_array = array.reshape((2, 3))\n",
        "print(\"Reshaped Array:\\n\", reshaped_array)\n",
        "# Reshape to 3x2\n",
        "reshaped_array = array.reshape((3, 2))\n",
        "print(\"Reshaped Array:\\n\", reshaped_array)\n",
        "\n"
      ],
      "metadata": {
        "colab": {
          "base_uri": "https://localhost:8080/"
        },
        "id": "5WHT-pkFDunG",
        "outputId": "12d4d0ca-8a74-4412-b5e4-20755461ffa6"
      },
      "execution_count": null,
      "outputs": [
        {
          "output_type": "stream",
          "name": "stdout",
          "text": [
            "Reshaped Array:\n",
            " [[1 2 3]\n",
            " [4 5 6]]\n",
            "Reshaped Array:\n",
            " [[1 2]\n",
            " [3 4]\n",
            " [5 6]]\n"
          ]
        }
      ]
    },
    {
      "cell_type": "code",
      "source": [
        "import numpy as np\n",
        "# Create two arrays\n",
        "array_a = np.array([1, 2, 3])\n",
        "array_b = np.array([4, 5, 6])\n",
        "# Element-wise addition\n",
        "add_result = array_a + array_b\n",
        "print(\"Element-wise Addition:\", add_result)\n",
        "# Element-wise multiplication\n",
        "\n",
        "multiply_result = array_a * array_b\n",
        "print(\"Element-wise Multiplication:\", multiply_result)"
      ],
      "metadata": {
        "colab": {
          "base_uri": "https://localhost:8080/"
        },
        "id": "CTdpdgsjD_90",
        "outputId": "ec7319cb-b368-4224-94fd-ae4cfb6f5c2f"
      },
      "execution_count": null,
      "outputs": [
        {
          "output_type": "stream",
          "name": "stdout",
          "text": [
            "Element-wise Addition: [5 7 9]\n",
            "Element-wise Multiplication: [ 4 10 18]\n"
          ]
        }
      ]
    },
    {
      "cell_type": "code",
      "source": [
        "# Create a 2D array\n",
        "array_2d = np.array([[1, 2, 3], [4, 5, 6], [7, 8, 9]])\n",
        "# Accessing an element\n",
        "element = array_2d[1, 1]\n",
        "print(\"Element at [1, 1]:\", element)\n",
        "# Accessing a row\n",
        "row = array_2d[1, :]\n",
        "print(\"Row 1:\", row)\n",
        "# Accessing a column\n",
        "column = array_2d[:, 1]\n",
        "print(\"Column 1:\", column)"
      ],
      "metadata": {
        "colab": {
          "base_uri": "https://localhost:8080/"
        },
        "id": "0_bJmnsGEWX8",
        "outputId": "4e734b70-297f-4854-9a60-2687f5182bcf"
      },
      "execution_count": null,
      "outputs": [
        {
          "output_type": "stream",
          "name": "stdout",
          "text": [
            "Element at [1, 1]: 5\n",
            "Row 1: [4 5 6]\n",
            "Column 1: [2 5 8]\n"
          ]
        }
      ]
    },
    {
      "cell_type": "code",
      "source": [],
      "metadata": {
        "id": "wXcfa-m-ErxK"
      },
      "execution_count": null,
      "outputs": []
    },
    {
      "cell_type": "code",
      "source": [
        "import numpy as np\n",
        "\n",
        "# Create a random array\n",
        "random_array = np.random.rand(3, 3)\n",
        "print(\"Random Array:\\n\", random_array)\n",
        "# Create a random integer array\n",
        "random_int_array = np.random.randint(0, 10, (3, 3))\n",
        "print(\"Random Integer Array:\\n\", random_int_array)"
      ],
      "metadata": {
        "colab": {
          "base_uri": "https://localhost:8080/"
        },
        "id": "eC8Uhk4PE-sU",
        "outputId": "d9a5dcc4-e678-4688-f501-7efa12945ae1"
      },
      "execution_count": null,
      "outputs": [
        {
          "output_type": "stream",
          "name": "stdout",
          "text": [
            "Random Array:\n",
            " [[0.2558224  0.32382034 0.69038153]\n",
            " [0.65117444 0.91049689 0.51986612]\n",
            " [0.4156565  0.53786523 0.62222628]]\n",
            "Random Integer Array:\n",
            " [[6 0 3]\n",
            " [3 6 7]\n",
            " [7 7 9]]\n"
          ]
        }
      ]
    },
    {
      "cell_type": "code",
      "source": [
        "import numpy as np\n",
        "# Create two arrays\n",
        "array_a = np.array([1, 2, 3])\n",
        "array_b = np.array([4, 5, 6])\n",
        "# Vertical stack\n",
        "v_stack = np.vstack((array_a, array_b))\n",
        "print(\"Vertical Stack:\\n\", v_stack)\n",
        "# Horizontal stack\n",
        "h_stack = np.hstack((array_a, array_b))\n",
        "print(\"Horizontal Stack:\", h_stack)"
      ],
      "metadata": {
        "colab": {
          "base_uri": "https://localhost:8080/"
        },
        "id": "o1jhHaGtFS3A",
        "outputId": "6cc61696-ec57-4f9f-9750-a997412e2818"
      },
      "execution_count": null,
      "outputs": [
        {
          "output_type": "stream",
          "name": "stdout",
          "text": [
            "Vertical Stack:\n",
            " [[1 2 3]\n",
            " [4 5 6]]\n",
            "Horizontal Stack: [1 2 3 4 5 6]\n"
          ]
        }
      ]
    },
    {
      "cell_type": "code",
      "source": [
        "import numpy as np\n",
        "\n",
        "# Generate 10 equally spaced numbers between 0 and 1\n",
        "arr = np.linspace(0, 1, 10)\n",
        "\n",
        "print(arr)"
      ],
      "metadata": {
        "colab": {
          "base_uri": "https://localhost:8080/"
        },
        "id": "NTpkzuoCFtFJ",
        "outputId": "c2fd4678-8174-4dd4-9d21-ae496b18c4ff"
      },
      "execution_count": null,
      "outputs": [
        {
          "output_type": "stream",
          "name": "stdout",
          "text": [
            "[0.         0.11111111 0.22222222 0.33333333 0.44444444 0.55555556\n",
            " 0.66666667 0.77777778 0.88888889 1.        ]\n"
          ]
        }
      ]
    },
    {
      "cell_type": "code",
      "source": [
        "import numpy as np\n",
        "\n",
        "# Generate 20 random integers between 1 and 100\n",
        "arr = np.random.randint(1, 101, 20)\n",
        "\n",
        "print(arr)\n"
      ],
      "metadata": {
        "colab": {
          "base_uri": "https://localhost:8080/"
        },
        "id": "tAv2KfHAF2Ls",
        "outputId": "f07cabf3-c96d-4828-a967-48bb400819e9"
      },
      "execution_count": null,
      "outputs": [
        {
          "output_type": "stream",
          "name": "stdout",
          "text": [
            "[43  8 62 12 77 10 33 20 13 29 40 43 86 61 67 36  2 73 16 15]\n"
          ]
        }
      ]
    },
    {
      "cell_type": "code",
      "source": [
        "import numpy as np\n",
        "\n",
        "# Create a 2D array with shape (4, 4) filled with the value 7\n",
        "arr = np.full((4, 4), 7)\n",
        "\n",
        "print(arr)"
      ],
      "metadata": {
        "colab": {
          "base_uri": "https://localhost:8080/"
        },
        "id": "wujO4ymkF_PB",
        "outputId": "ce2872f1-88d3-4fe6-b176-39b05801dd4d"
      },
      "execution_count": null,
      "outputs": [
        {
          "output_type": "stream",
          "name": "stdout",
          "text": [
            "[[7 7 7 7]\n",
            " [7 7 7 7]\n",
            " [7 7 7 7]\n",
            " [7 7 7 7]]\n"
          ]
        }
      ]
    },
    {
      "cell_type": "code",
      "source": [
        "import numpy as np\n",
        "\n",
        "# Create a 1D array of 10 elements with the value 3.14\n",
        "arr = np.full(10, 3.14)\n",
        "\n",
        "print(arr)\n"
      ],
      "metadata": {
        "colab": {
          "base_uri": "https://localhost:8080/"
        },
        "id": "zg19JDjbGJAI",
        "outputId": "8f9947c0-4913-460f-f7a5-78bf5a341cb0"
      },
      "execution_count": null,
      "outputs": [
        {
          "output_type": "stream",
          "name": "stdout",
          "text": [
            "[3.14 3.14 3.14 3.14 3.14 3.14 3.14 3.14 3.14 3.14]\n"
          ]
        }
      ]
    },
    {
      "cell_type": "code",
      "source": [
        "import numpy as np\n",
        "\n",
        "# Create a 2D array with shape (3, 3) and values ranging from 1 to 9\n",
        "arr = np.arange(1, 10).reshape(3, 3)\n",
        "\n",
        "print(arr)\n"
      ],
      "metadata": {
        "colab": {
          "base_uri": "https://localhost:8080/"
        },
        "id": "r86IID5oGSjW",
        "outputId": "a5fbcbfd-d27a-4979-ee57-8a5057b3b230"
      },
      "execution_count": null,
      "outputs": [
        {
          "output_type": "stream",
          "name": "stdout",
          "text": [
            "[[1 2 3]\n",
            " [4 5 6]\n",
            " [7 8 9]]\n"
          ]
        }
      ]
    },
    {
      "cell_type": "code",
      "source": [
        "import numpy as np\n",
        "\n",
        "# Define arrays a and b\n",
        "a = np.array([1, 3, 5, 7, 9])\n",
        "b = np.array([2, 4, 6, 8, 10])\n",
        "\n",
        "# Perform element-wise subtraction\n",
        "result = a - b\n",
        "\n",
        "print(result)\n"
      ],
      "metadata": {
        "colab": {
          "base_uri": "https://localhost:8080/"
        },
        "id": "uhXJeU6BGbRq",
        "outputId": "db287390-0273-47d5-937a-30e3c78bfd5e"
      },
      "execution_count": null,
      "outputs": [
        {
          "output_type": "stream",
          "name": "stdout",
          "text": [
            "[-1 -1 -1 -1 -1]\n"
          ]
        }
      ]
    },
    {
      "cell_type": "code",
      "source": [
        "import numpy as np\n",
        "\n",
        "# Define array a\n",
        "a = np.array([2, 4, 6, 8])\n",
        "\n",
        "# Multiply array a by 3\n",
        "a = a * 3\n",
        "\n",
        "print(a)\n"
      ],
      "metadata": {
        "colab": {
          "base_uri": "https://localhost:8080/"
        },
        "id": "74Eyf3e2Gka6",
        "outputId": "45f5e4df-3bd1-4822-bde3-41573d7ebf22"
      },
      "execution_count": null,
      "outputs": [
        {
          "output_type": "stream",
          "name": "stdout",
          "text": [
            "[ 6 12 18 24]\n"
          ]
        }
      ]
    },
    {
      "cell_type": "code",
      "source": [],
      "metadata": {
        "id": "eY-gyl0ZGuuE"
      },
      "execution_count": null,
      "outputs": []
    },
    {
      "cell_type": "code",
      "source": [
        "import numpy as np\n",
        "\n",
        "# Define array a\n",
        "a = np.array([10, 20, 30, 40])\n",
        "\n",
        "# Divide array a by 2\n",
        "a = a / 2\n",
        "\n",
        "print(a)\n",
        "\n"
      ],
      "metadata": {
        "colab": {
          "base_uri": "https://localhost:8080/"
        },
        "id": "_BYf7-muGw-U",
        "outputId": "4f703d77-fc0a-4ed0-a5e3-7cf85dfedd12"
      },
      "execution_count": null,
      "outputs": [
        {
          "output_type": "stream",
          "name": "stdout",
          "text": [
            "[ 5. 10. 15. 20.]\n"
          ]
        }
      ]
    },
    {
      "cell_type": "code",
      "source": [
        "import numpy as np\n",
        "\n",
        "# Define arrays a and b\n",
        "a = np.array([5, 10, 15])\n",
        "b = np.array([2, 3, 4])\n",
        "\n",
        "# Perform element-wise modulus\n",
        "result = np.mod(a, b)\n",
        "\n",
        "print(result)"
      ],
      "metadata": {
        "colab": {
          "base_uri": "https://localhost:8080/"
        },
        "id": "B5lzLabfG4pT",
        "outputId": "1e4c4ba9-7a91-45d3-9d8e-bad6247e8aa6"
      },
      "execution_count": null,
      "outputs": [
        {
          "output_type": "stream",
          "name": "stdout",
          "text": [
            "[1 1 3]\n"
          ]
        }
      ]
    },
    {
      "cell_type": "code",
      "source": [
        "import numpy as np\n",
        "\n",
        "# Define arrays a and b\n",
        "a = np.array([1, 2, 3])\n",
        "b = np.array([4, 5, 6])\n",
        "\n",
        "# Compute the dot product\n",
        "dot_product = np.dot(a, b)\n",
        "\n",
        "print(dot_product)"
      ],
      "metadata": {
        "colab": {
          "base_uri": "https://localhost:8080/"
        },
        "id": "_B7fAMrfHXAf",
        "outputId": "1cb94b36-5f4d-4d2c-cca6-c977d855a7a6"
      },
      "execution_count": null,
      "outputs": [
        {
          "output_type": "stream",
          "name": "stdout",
          "text": [
            "32\n"
          ]
        }
      ]
    },
    {
      "cell_type": "code",
      "source": [
        "import numpy as np\n",
        "\n",
        "# Define matrices a and b\n",
        "a = np.array([[2, 3],\n",
        "              [4, 5]])\n",
        "\n",
        "b = np.array([[1, 0],\n",
        "              [0, 1]])\n",
        "\n",
        "# Perform matrix multiplication\n",
        "result = np.matmul(a, b)  # or equivalently: a @ b\n",
        "\n",
        "print(result)"
      ],
      "metadata": {
        "colab": {
          "base_uri": "https://localhost:8080/"
        },
        "id": "nzHfQK4lHjNZ",
        "outputId": "a6f1b870-7b3c-4d66-ce60-0cd55a54585a"
      },
      "execution_count": null,
      "outputs": [
        {
          "output_type": "stream",
          "name": "stdout",
          "text": [
            "[[2 3]\n",
            " [4 5]]\n"
          ]
        }
      ]
    },
    {
      "cell_type": "code",
      "source": [
        "import numpy as np\n",
        "\n",
        "# Define a 3x3 matrix\n",
        "A = np.array([[1, 2, 3],\n",
        "              [4, 5, 6],\n",
        "              [7, 8, 9]])\n",
        "\n",
        "# Define a 3x1 vector (as a 1D array in NumPy)\n",
        "v = np.array([1, 2, 3])\n",
        "\n",
        "# Perform matrix multiplication (A * v)\n",
        "result = np.matmul(A, v)  # or equivalently: A @ v\n",
        "\n",
        "print(result)"
      ],
      "metadata": {
        "colab": {
          "base_uri": "https://localhost:8080/"
        },
        "id": "gNU-4gTrIGe3",
        "outputId": "5e0c4b8d-1d65-4bbe-bae7-9c4bd8096f3f"
      },
      "execution_count": null,
      "outputs": [
        {
          "output_type": "stream",
          "name": "stdout",
          "text": [
            "[14 32 50]\n"
          ]
        }
      ]
    },
    {
      "cell_type": "code",
      "source": [
        "import numpy as np\n",
        "\n",
        "# Generate a 4x4 identity matrix\n",
        "identity_matrix = np.identity(4)\n",
        "\n",
        "# Generate a 4x4 matrix filled with random integers (between 0 and 9 for example)\n",
        "random_matrix = np.random.randint(0, 10, (4, 4))\n",
        "\n",
        "# Perform matrix multiplication\n",
        "result = np.matmul(identity_matrix, random_matrix)\n",
        "\n",
        "# Print the results\n",
        "print(\"Identity Matrix:\")\n",
        "print(identity_matrix)\n",
        "print(\"\\nRandom Matrix:\")\n",
        "print(random_matrix)\n",
        "print(\"\\nResult of Matrix Multiplication (Identity Matrix * Random Matrix):\")\n",
        "print(result)\n"
      ],
      "metadata": {
        "colab": {
          "base_uri": "https://localhost:8080/"
        },
        "id": "Hfs5-bL7IWcn",
        "outputId": "2517502c-3684-4199-dc8b-ae1dd33c2734"
      },
      "execution_count": null,
      "outputs": [
        {
          "output_type": "stream",
          "name": "stdout",
          "text": [
            "Identity Matrix:\n",
            "[[1. 0. 0. 0.]\n",
            " [0. 1. 0. 0.]\n",
            " [0. 0. 1. 0.]\n",
            " [0. 0. 0. 1.]]\n",
            "\n",
            "Random Matrix:\n",
            "[[0 8 2 4]\n",
            " [7 6 1 0]\n",
            " [9 8 6 4]\n",
            " [7 2 0 1]]\n",
            "\n",
            "Result of Matrix Multiplication (Identity Matrix * Random Matrix):\n",
            "[[0. 8. 2. 4.]\n",
            " [7. 6. 1. 0.]\n",
            " [9. 8. 6. 4.]\n",
            " [7. 2. 0. 1.]]\n"
          ]
        }
      ]
    },
    {
      "cell_type": "code",
      "source": [
        "import numpy as np\n",
        "\n",
        "# Define matrices a and b\n",
        "a = np.array([[1, 2, 3],\n",
        "              [4, 5, 6],\n",
        "              [7, 8, 9]])\n",
        "\n",
        "b = np.array([[9, 8, 7],\n",
        "              [6, 5, 4],\n",
        "              [3, 2, 1]])\n",
        "\n",
        "# Perform matrix multiplication\n",
        "result = np.matmul(a, b)  # or equivalently: a @ b\n",
        "\n",
        "print(result)"
      ],
      "metadata": {
        "colab": {
          "base_uri": "https://localhost:8080/"
        },
        "id": "quSGgVNyIm_3",
        "outputId": "d437ec36-25a6-4ee7-c0e3-89548521be56"
      },
      "execution_count": null,
      "outputs": [
        {
          "output_type": "stream",
          "name": "stdout",
          "text": [
            "[[ 30  24  18]\n",
            " [ 84  69  54]\n",
            " [138 114  90]]\n"
          ]
        }
      ]
    },
    {
      "cell_type": "code",
      "source": [
        "import numpy as np\n",
        "\n",
        "# Define a 2x3 matrix\n",
        "A = np.array([[1, 2, 3],\n",
        "              [4, 5, 6]])\n",
        "\n",
        "# Define a 3x2 matrix\n",
        "B = np.array([[7, 8],\n",
        "              [9, 10],\n",
        "              [11, 12]])\n",
        "\n",
        "# Perform matrix multiplication\n",
        "result = np.matmul(A, B)  # or equivalently: A @ B\n",
        "\n",
        "print(result)\n"
      ],
      "metadata": {
        "colab": {
          "base_uri": "https://localhost:8080/"
        },
        "id": "eK5fpO-CI83a",
        "outputId": "73fda27e-bc39-4f76-a0f8-754a56b398e0"
      },
      "execution_count": null,
      "outputs": [
        {
          "output_type": "stream",
          "name": "stdout",
          "text": [
            "[[ 58  64]\n",
            " [139 154]]\n"
          ]
        }
      ]
    },
    {
      "cell_type": "code",
      "source": [
        "import numpy as np\n",
        "\n",
        "# Create a 1D array\n",
        "array = np.array([10, 20, 30])\n",
        "\n",
        "# Subtract a scalar value using broadcasting\n",
        "result = array - 5\n",
        "\n",
        "print(result)\n"
      ],
      "metadata": {
        "colab": {
          "base_uri": "https://localhost:8080/"
        },
        "id": "7l9dtLifJN3G",
        "outputId": "125f324f-9ab6-4005-c734-ec3e02b73283"
      },
      "execution_count": null,
      "outputs": [
        {
          "output_type": "stream",
          "name": "stdout",
          "text": [
            "[ 5 15 25]\n"
          ]
        }
      ]
    },
    {
      "cell_type": "code",
      "source": [
        "import numpy as np\n",
        "\n",
        "# Create a 3x3 array\n",
        "array_3x3 = np.array([[1, 2, 3],\n",
        "                      [4, 5, 6],\n",
        "                      [7, 8, 9]])\n",
        "\n",
        "# Create a 3x1 array (as a column vector)\n",
        "array_3x1 = np.array([[10],\n",
        "                      [20],\n",
        "                      [30]])\n",
        "\n",
        "# Add them using broadcasting\n",
        "result = array_3x3 + array_3x1\n",
        "\n",
        "print(result)\n"
      ],
      "metadata": {
        "colab": {
          "base_uri": "https://localhost:8080/"
        },
        "id": "QL3lZmyzJdYE",
        "outputId": "97296c33-6adc-4f83-faf2-b7142b3957b7"
      },
      "execution_count": null,
      "outputs": [
        {
          "output_type": "stream",
          "name": "stdout",
          "text": [
            "[[11 12 13]\n",
            " [24 25 26]\n",
            " [37 38 39]]\n"
          ]
        }
      ]
    },
    {
      "cell_type": "code",
      "source": [
        "import numpy as np\n",
        "\n",
        "# Create a 4x4 array\n",
        "array_4x4 = np.array([[10, 20, 30, 40],\n",
        "                      [50, 60, 70, 80],\n",
        "                      [90, 100, 110, 120],\n",
        "                      [130, 140, 150, 160]])\n",
        "\n",
        "# Divide by a scalar value using broadcasting\n",
        "result = array_4x4 / 2\n",
        "\n",
        "print(result)\n"
      ],
      "metadata": {
        "colab": {
          "base_uri": "https://localhost:8080/"
        },
        "id": "WTib_ikBJnkr",
        "outputId": "eb05b4f3-b760-4590-efaf-fe4bed13ece5"
      },
      "execution_count": null,
      "outputs": [
        {
          "output_type": "stream",
          "name": "stdout",
          "text": [
            "[[ 5. 10. 15. 20.]\n",
            " [25. 30. 35. 40.]\n",
            " [45. 50. 55. 60.]\n",
            " [65. 70. 75. 80.]]\n"
          ]
        }
      ]
    },
    {
      "cell_type": "code",
      "source": [
        "import numpy as np\n",
        "\n",
        "# Create a 3x3 array\n",
        "array_3x3 = np.array([[1, 2, 3],\n",
        "                      [4, 5, 6],\n",
        "                      [7, 8, 9]])\n",
        "\n",
        "# Add 3 to each element using broadcasting\n",
        "result = array_3x3 + 3\n",
        "\n",
        "print(result)\n"
      ],
      "metadata": {
        "colab": {
          "base_uri": "https://localhost:8080/"
        },
        "id": "0d8TuyqNKNua",
        "outputId": "1c0d57ec-25d3-4a07-f2ba-3504edbd0b6b"
      },
      "execution_count": null,
      "outputs": [
        {
          "output_type": "stream",
          "name": "stdout",
          "text": [
            "[[ 4  5  6]\n",
            " [ 7  8  9]\n",
            " [10 11 12]]\n"
          ]
        }
      ]
    },
    {
      "cell_type": "code",
      "source": [
        "import numpy as np\n",
        "\n",
        "# Create a 1D array of shape (5,)\n",
        "array_1d = np.array([1, 2, 3, 4, 5])\n",
        "\n",
        "# Create a 2D array of shape (5, 5)\n",
        "array_2d = np.array([[1, 2, 3, 4, 5],\n",
        "                     [6, 7, 8, 9, 10],\n",
        "                     [11, 12, 13, 14, 15],\n",
        "                     [16, 17, 18, 19, 20],\n",
        "                     [21, 22, 23, 24, 25]])\n",
        "\n",
        "# Multiply using broadcasting\n",
        "result = array_1d[:, np.newaxis] * array_2d  # or equivalently: array_1d.reshape(-1, 1) * array_2d\n",
        "\n",
        "print(result)"
      ],
      "metadata": {
        "colab": {
          "base_uri": "https://localhost:8080/"
        },
        "id": "gx57TtBpK0F1",
        "outputId": "6edafbdd-f2a9-4d8f-fe9d-9d8fbd4bc21e"
      },
      "execution_count": null,
      "outputs": [
        {
          "output_type": "stream",
          "name": "stdout",
          "text": [
            "[[  1   2   3   4   5]\n",
            " [ 12  14  16  18  20]\n",
            " [ 33  36  39  42  45]\n",
            " [ 64  68  72  76  80]\n",
            " [105 110 115 120 125]]\n"
          ]
        }
      ]
    },
    {
      "cell_type": "code",
      "source": [
        "import numpy as np\n",
        "\n",
        "# Define the array\n",
        "data = np.array([1, 2, 3, 4, 5, 6, 7, 8, 9, 10])\n",
        "\n",
        "# Calculate the median\n",
        "median = np.median(data)\n",
        "\n",
        "print(\"Median of the array:\", median)"
      ],
      "metadata": {
        "colab": {
          "base_uri": "https://localhost:8080/"
        },
        "id": "CMHYeYwqLK0i",
        "outputId": "b7c372e1-369b-48b3-9fd0-f8c433eeaf2a"
      },
      "execution_count": null,
      "outputs": [
        {
          "output_type": "stream",
          "name": "stdout",
          "text": [
            "Median of the array: 5.5\n"
          ]
        }
      ]
    },
    {
      "cell_type": "code",
      "source": [
        "from statistics import mode\n",
        "\n",
        "# Define the array\n",
        "data = [1, 2, 2, 3, 4, 4, 4, 5, 6]\n",
        "\n",
        "# Calculate the mode\n",
        "mode_value = mode(data)\n",
        "\n",
        "print(\"Mode of the array:\", mode_value)"
      ],
      "metadata": {
        "colab": {
          "base_uri": "https://localhost:8080/"
        },
        "id": "C1CEs3bQLk0p",
        "outputId": "5e539d05-1d44-4da8-de1c-a10b13204962"
      },
      "execution_count": null,
      "outputs": [
        {
          "output_type": "stream",
          "name": "stdout",
          "text": [
            "Mode of the array: 4\n"
          ]
        }
      ]
    },
    {
      "cell_type": "code",
      "source": [
        "import numpy as np\n",
        "\n",
        "# Define the array\n",
        "data = np.array([10, 20, 30, 40, 50])\n",
        "\n",
        "# Calculate the range\n",
        "data_range = np.max(data) - np.min(data)\n",
        "\n",
        "print(\"Range of the array:\", data_range)\n"
      ],
      "metadata": {
        "colab": {
          "base_uri": "https://localhost:8080/"
        },
        "id": "YD-k5fDiLxTl",
        "outputId": "7d995590-a713-46f9-9f94-c0ed531dac07"
      },
      "execution_count": null,
      "outputs": [
        {
          "output_type": "stream",
          "name": "stdout",
          "text": [
            "Range of the array: 40\n"
          ]
        }
      ]
    },
    {
      "cell_type": "code",
      "source": [
        "import numpy as np\n",
        "\n",
        "# Define the array\n",
        "data = np.array([1, 2, 3, 4, 5, 6, 7, 8, 9, 10])\n",
        "\n",
        "# Calculate the 25th percentile\n",
        "percentile_25 = np.percentile(data, 25)\n",
        "\n",
        "print(\"25th percentile of the array:\", percentile_25)\n"
      ],
      "metadata": {
        "colab": {
          "base_uri": "https://localhost:8080/"
        },
        "id": "oXsiL4UNL9Tp",
        "outputId": "e2891e7b-2762-4bb0-f77c-f7fb80f2373b"
      },
      "execution_count": null,
      "outputs": [
        {
          "output_type": "stream",
          "name": "stdout",
          "text": [
            "25th percentile of the array: 3.25\n"
          ]
        }
      ]
    },
    {
      "cell_type": "code",
      "source": [
        "import numpy as np\n",
        "\n",
        "# Define arrays a and b\n",
        "a = np.array([1, 2, 3, 4, 5])\n",
        "b = np.array([2, 4, 6, 8, 10])\n",
        "\n",
        "# Calculate the correlation coefficient\n",
        "correlation_coefficient = np.corrcoef(a, b)[0, 1]\n",
        "\n",
        "print(\"Correlation coefficient between a and b:\", correlation_coefficient)"
      ],
      "metadata": {
        "colab": {
          "base_uri": "https://localhost:8080/"
        },
        "id": "OnjH6RLvML-q",
        "outputId": "8cde26a1-3774-4e0e-f746-47d3b57a1414"
      },
      "execution_count": null,
      "outputs": [
        {
          "output_type": "stream",
          "name": "stdout",
          "text": [
            "Correlation coefficient between a and b: 0.9999999999999999\n"
          ]
        }
      ]
    },
    {
      "cell_type": "code",
      "source": [
        "import numpy as np\n",
        "\n",
        "# Create a 1D array of 12 elements\n",
        "array_1d = np.array([1, 2, 3, 4, 5, 6, 7, 8, 9, 10, 11, 12])\n",
        "\n",
        "# Reshape the array to a 3x4 array\n",
        "array_3x4 = array_1d.reshape(3, 4)\n",
        "\n",
        "print(\"Original 1D array:\")\n",
        "print(array_1d)\n",
        "print(\"\\nReshaped 3x4 array:\")\n",
        "print(array_3x4)"
      ],
      "metadata": {
        "colab": {
          "base_uri": "https://localhost:8080/"
        },
        "id": "i2T6A-IiMWQ0",
        "outputId": "29523dd0-32a7-4a04-b18b-fc27a92c0034"
      },
      "execution_count": null,
      "outputs": [
        {
          "output_type": "stream",
          "name": "stdout",
          "text": [
            "Original 1D array:\n",
            "[ 1  2  3  4  5  6  7  8  9 10 11 12]\n",
            "\n",
            "Reshaped 3x4 array:\n",
            "[[ 1  2  3  4]\n",
            " [ 5  6  7  8]\n",
            " [ 9 10 11 12]]\n"
          ]
        }
      ]
    },
    {
      "cell_type": "code",
      "source": [
        "import numpy as np\n",
        "\n",
        "# Create a 2D array of shape (6, 2)\n",
        "array_2d = np.array([[1, 2],\n",
        "                     [3, 4],\n",
        "                     [5, 6],\n",
        "                     [7, 8],\n",
        "                     [9, 10],\n",
        "                     [11, 12]])\n",
        "\n",
        "# Reshape the array to shape (3, 4)\n",
        "array_3x4 = array_2d.reshape(3, 4)\n",
        "\n",
        "print(\"Original 2D array (shape 6x2):\")\n",
        "print(array_2d)\n",
        "print(\"\\nReshaped 2D array (shape 3x4):\")\n",
        "print(array_3x4)"
      ],
      "metadata": {
        "colab": {
          "base_uri": "https://localhost:8080/"
        },
        "id": "rbpFzIgzMatX",
        "outputId": "357c8adf-a58b-430a-c631-02482b5e9b82"
      },
      "execution_count": null,
      "outputs": [
        {
          "output_type": "stream",
          "name": "stdout",
          "text": [
            "Original 2D array (shape 6x2):\n",
            "[[ 1  2]\n",
            " [ 3  4]\n",
            " [ 5  6]\n",
            " [ 7  8]\n",
            " [ 9 10]\n",
            " [11 12]]\n",
            "\n",
            "Reshaped 2D array (shape 3x4):\n",
            "[[ 1  2  3  4]\n",
            " [ 5  6  7  8]\n",
            " [ 9 10 11 12]]\n"
          ]
        }
      ]
    },
    {
      "cell_type": "code",
      "source": [
        "import numpy as np\n",
        "\n",
        "# Create a 4x4 array\n",
        "array_4x4 = np.array([[1, 2, 3, 4],\n",
        "                      [5, 6, 7, 8],\n",
        "                      [9, 10, 11, 12],\n",
        "                      [13, 14, 15, 16]])\n",
        "\n",
        "# Flatten the array into a 1D array\n",
        "array_flat = array_4x4.flatten()\n",
        "\n",
        "print(\"Original 4x4 array:\")\n",
        "print(array_4x4)\n",
        "print(\"\\nFlattened 1D array:\")\n",
        "print(array_flat)"
      ],
      "metadata": {
        "colab": {
          "base_uri": "https://localhost:8080/"
        },
        "id": "-3utFGhGMkkq",
        "outputId": "2a296316-682d-492a-a82f-f40acbb73287"
      },
      "execution_count": null,
      "outputs": [
        {
          "output_type": "stream",
          "name": "stdout",
          "text": [
            "Original 4x4 array:\n",
            "[[ 1  2  3  4]\n",
            " [ 5  6  7  8]\n",
            " [ 9 10 11 12]\n",
            " [13 14 15 16]]\n",
            "\n",
            "Flattened 1D array:\n",
            "[ 1  2  3  4  5  6  7  8  9 10 11 12 13 14 15 16]\n"
          ]
        }
      ]
    },
    {
      "cell_type": "code",
      "source": [
        "import numpy as np\n",
        "\n",
        "# Create a 3D array of shape (2, 3, 4)\n",
        "array_3d = np.array([[[ 1,  2,  3,  4],\n",
        "                      [ 5,  6,  7,  8],\n",
        "                      [ 9, 10, 11, 12]],\n",
        "\n",
        "                     [[13, 14, 15, 16],\n",
        "                      [17, 18, 19, 20],\n",
        "                      [21, 22, 23, 24]]])\n",
        "\n",
        "# Reshape the array to shape (4, 3, 2)\n",
        "array_4x3x2 = array_3d.reshape(4, 3, 2)\n",
        "\n",
        "print(\"Original 3D array (shape 2x3x4):\")\n",
        "print(array_3d)\n",
        "print(\"\\nReshaped 3D array (shape 4x3x2):\")\n",
        "print(array_4x3x2)"
      ],
      "metadata": {
        "colab": {
          "base_uri": "https://localhost:8080/"
        },
        "id": "xCH-AioHM4ok",
        "outputId": "9e4e0fd7-0f63-4095-cd45-e2cdc9a76ad2"
      },
      "execution_count": null,
      "outputs": [
        {
          "output_type": "stream",
          "name": "stdout",
          "text": [
            "Original 3D array (shape 2x3x4):\n",
            "[[[ 1  2  3  4]\n",
            "  [ 5  6  7  8]\n",
            "  [ 9 10 11 12]]\n",
            "\n",
            " [[13 14 15 16]\n",
            "  [17 18 19 20]\n",
            "  [21 22 23 24]]]\n",
            "\n",
            "Reshaped 3D array (shape 4x3x2):\n",
            "[[[ 1  2]\n",
            "  [ 3  4]\n",
            "  [ 5  6]]\n",
            "\n",
            " [[ 7  8]\n",
            "  [ 9 10]\n",
            "  [11 12]]\n",
            "\n",
            " [[13 14]\n",
            "  [15 16]\n",
            "  [17 18]]\n",
            "\n",
            " [[19 20]\n",
            "  [21 22]\n",
            "  [23 24]]]\n"
          ]
        }
      ]
    },
    {
      "cell_type": "code",
      "source": [
        "import numpy as np\n",
        "\n",
        "# Create a 1D array\n",
        "array_1d = np.array([1, 2, 3, 4, 5, 6, 7, 8])\n",
        "\n",
        "# Reshape to a 2D array with 1 row and as many columns as needed\n",
        "array_2d = array_1d.reshape(1, -1)\n",
        "\n",
        "print(\"Original 1D array:\")\n",
        "print(array_1d)\n",
        "print(\"\\nReshaped 2D array (1 row, many columns):\")\n",
        "print(array_2d)"
      ],
      "metadata": {
        "colab": {
          "base_uri": "https://localhost:8080/"
        },
        "id": "4WOTsLdvNEH9",
        "outputId": "4cb3643d-e828-40ec-ba31-b9fe328e5098"
      },
      "execution_count": null,
      "outputs": [
        {
          "output_type": "stream",
          "name": "stdout",
          "text": [
            "Original 1D array:\n",
            "[1 2 3 4 5 6 7 8]\n",
            "\n",
            "Reshaped 2D array (1 row, many columns):\n",
            "[[1 2 3 4 5 6 7 8]]\n"
          ]
        }
      ]
    },
    {
      "cell_type": "code",
      "source": [
        "import numpy as np\n",
        "\n",
        "# Create arrays a and b\n",
        "a = np.array([1, 3, 5])\n",
        "b = np.array([2, 4, 6])\n",
        "\n",
        "# Perform element-wise division\n",
        "result = a / b\n",
        "\n",
        "print(\"Result of element-wise division:\")\n",
        "print(result)\n"
      ],
      "metadata": {
        "colab": {
          "base_uri": "https://localhost:8080/"
        },
        "id": "8ZnE3gyVNOO9",
        "outputId": "938d7aa9-9497-41d1-ed77-502a9451c753"
      },
      "execution_count": null,
      "outputs": [
        {
          "output_type": "stream",
          "name": "stdout",
          "text": [
            "Result of element-wise division:\n",
            "[0.5        0.75       0.83333333]\n"
          ]
        }
      ]
    },
    {
      "cell_type": "code",
      "source": [
        "import numpy as np\n",
        "\n",
        "# Create arrays a and b\n",
        "a = np.array([2, 4, 6])\n",
        "b = np.array([1, 3, 5])\n",
        "\n",
        "# Perform element-wise modulus\n",
        "result = np.mod(a, b)\n",
        "\n",
        "print(\"Result of element-wise modulus:\")\n",
        "print(result)\n"
      ],
      "metadata": {
        "colab": {
          "base_uri": "https://localhost:8080/"
        },
        "id": "cSUJ6q9pNV8O",
        "outputId": "d73f6500-9a2b-4a92-aec7-1caa2241363b"
      },
      "execution_count": null,
      "outputs": [
        {
          "output_type": "stream",
          "name": "stdout",
          "text": [
            "Result of element-wise modulus:\n",
            "[0 1 1]\n"
          ]
        }
      ]
    },
    {
      "cell_type": "code",
      "source": [
        "import numpy as np\n",
        "\n",
        "# Create array a\n",
        "a = np.array([1, 2, 3, 4, 5])\n",
        "\n",
        "# Add 10 to each element\n",
        "result = a + 10\n",
        "\n",
        "print(\"Result after adding 10 to each element:\")\n",
        "print(result)"
      ],
      "metadata": {
        "colab": {
          "base_uri": "https://localhost:8080/"
        },
        "id": "06dWCVgWNhQ_",
        "outputId": "4656c6d9-6e40-4261-83ce-969a690be4b2"
      },
      "execution_count": null,
      "outputs": [
        {
          "output_type": "stream",
          "name": "stdout",
          "text": [
            "Result after adding 10 to each element:\n",
            "[11 12 13 14 15]\n"
          ]
        }
      ]
    },
    {
      "cell_type": "code",
      "source": [
        "import numpy as np\n",
        "\n",
        "# Create array a\n",
        "a = np.array([1, 2, 3, 4, 5])\n",
        "\n",
        "# Add 10 to each element\n",
        "result = a + 10\n",
        "\n",
        "print(\"Result after adding 10 to each element:\")\n",
        "print(result)"
      ],
      "metadata": {
        "colab": {
          "base_uri": "https://localhost:8080/"
        },
        "id": "1FOHRjFyNo9K",
        "outputId": "f632a683-cec9-4730-a15c-d86ecb358031"
      },
      "execution_count": null,
      "outputs": [
        {
          "output_type": "stream",
          "name": "stdout",
          "text": [
            "Result after adding 10 to each element:\n",
            "[11 12 13 14 15]\n"
          ]
        }
      ]
    },
    {
      "cell_type": "code",
      "source": [
        "import numpy as np\n",
        "\n",
        "# Create array b\n",
        "b = np.array([10, 20, 30, 40, 50])\n",
        "\n",
        "# Subtract 5 from each element\n",
        "result = b - 5\n",
        "\n",
        "print(\"Result after subtracting 5 from each element:\")\n",
        "print(result)"
      ],
      "metadata": {
        "colab": {
          "base_uri": "https://localhost:8080/"
        },
        "id": "82pw5heEN5u8",
        "outputId": "92767b8b-c010-4403-9d46-0b6694d4eed6"
      },
      "execution_count": null,
      "outputs": [
        {
          "output_type": "stream",
          "name": "stdout",
          "text": [
            "Result after subtracting 5 from each element:\n",
            "[ 5 15 25 35 45]\n"
          ]
        }
      ]
    },
    {
      "cell_type": "code",
      "source": [
        "import numpy as np\n",
        "\n",
        "# Create array c\n",
        "c = np.array([1, 2, 3, 4, 5])\n",
        "\n",
        "# Square each element\n",
        "result = np.square(c)\n",
        "\n",
        "print(\"Result after squaring each element:\")\n",
        "print(result)"
      ],
      "metadata": {
        "colab": {
          "base_uri": "https://localhost:8080/"
        },
        "id": "RTEXBbupOGpA",
        "outputId": "6e142315-7212-421f-944d-ddf55594ec28"
      },
      "execution_count": null,
      "outputs": [
        {
          "output_type": "stream",
          "name": "stdout",
          "text": [
            "Result after squaring each element:\n",
            "[ 1  4  9 16 25]\n"
          ]
        }
      ]
    },
    {
      "cell_type": "code",
      "source": [
        "# Define the 3D array\n",
        "array_3d = [[[1, 2, 3], [4, 5, 6]], [[7, 8, 9], [10, 11, 12]]]\n",
        "\n",
        "# Access the element at index [1, 1, 1]\n",
        "element = array_3d[1][1][1]\n",
        "\n",
        "print(\"Element at index [1, 1, 1]:\", element)\n"
      ],
      "metadata": {
        "colab": {
          "base_uri": "https://localhost:8080/"
        },
        "id": "9OiwsDN2OSr1",
        "outputId": "0be83f17-b8d3-40d9-c0d8-2bb59a628b2c"
      },
      "execution_count": null,
      "outputs": [
        {
          "output_type": "stream",
          "name": "stdout",
          "text": [
            "Element at index [1, 1, 1]: 11\n"
          ]
        }
      ]
    },
    {
      "cell_type": "code",
      "source": [
        "# Define the 3D array\n",
        "array_3d = [[[1, 2, 3], [4, 5, 6]], [[7, 8, 9], [10, 11, 12]]]\n",
        "\n",
        "# Slice the first layer (first dimension)\n",
        "first_layer = array_3d[0]\n",
        "\n",
        "print(\"First layer (first dimension) of the 3D array:\")\n",
        "print(first_layer)"
      ],
      "metadata": {
        "colab": {
          "base_uri": "https://localhost:8080/"
        },
        "id": "IWO0we5xOfKg",
        "outputId": "19867c64-bbfe-40e5-dadf-d46638758195"
      },
      "execution_count": null,
      "outputs": [
        {
          "output_type": "stream",
          "name": "stdout",
          "text": [
            "First layer (first dimension) of the 3D array:\n",
            "[[1, 2, 3], [4, 5, 6]]\n"
          ]
        }
      ]
    },
    {
      "cell_type": "code",
      "source": [
        "# Define the 2D array\n",
        "array_2d = [[10, 20, 30], [40, 50, 60], [70, 80, 90]]\n",
        "\n",
        "# Access the last row using negative indexing\n",
        "last_row = array_2d[-1]\n",
        "\n",
        "print(\"Last row of the 2D array:\")\n",
        "print(last_row)"
      ],
      "metadata": {
        "colab": {
          "base_uri": "https://localhost:8080/"
        },
        "id": "KgJiwI0mOpVN",
        "outputId": "508bd428-4173-4300-b055-c47b46c0318b"
      },
      "execution_count": null,
      "outputs": [
        {
          "output_type": "stream",
          "name": "stdout",
          "text": [
            "Last row of the 2D array:\n",
            "[70, 80, 90]\n"
          ]
        }
      ]
    },
    {
      "cell_type": "code",
      "source": [
        "array_2d = [[10, 20, 30], [40, 50, 60], [70, 80, 90]]\n",
        "\n",
        "# Initialize an empty list to store the elements from the first column\n",
        "first_column_elements = []\n",
        "\n",
        "# Iterate through each sublist (row) in the 2D array\n",
        "for sublist in array_2d:\n",
        "    # Append the element at the first index (index 0) of each sublist to the list\n",
        "    first_column_elements.append(sublist[0])\n",
        "\n",
        "# Print the elements of the first column\n",
        "print(\"Elements in the first column:\")\n",
        "for element in first_column_elements:\n",
        "    print(element)\n"
      ],
      "metadata": {
        "colab": {
          "base_uri": "https://localhost:8080/"
        },
        "id": "3JOP5J9vO8j8",
        "outputId": "2020bb97-3dfd-4a27-f0bf-cc79d8e174e0"
      },
      "execution_count": null,
      "outputs": [
        {
          "output_type": "stream",
          "name": "stdout",
          "text": [
            "Elements in the first column:\n",
            "10\n",
            "40\n",
            "70\n"
          ]
        }
      ]
    },
    {
      "cell_type": "code",
      "source": [
        "array_2d = [[10, 20, 30], [40, 50, 60], [70, 80, 90]]\n",
        "\n",
        "# Slice the last two rows\n",
        "last_two_rows = array_2d[1:]  # This selects rows starting from index 1 to the end\n",
        "\n",
        "# Slice the last two columns from each row in the sliced array\n",
        "last_two_columns = [row[:-2] for row in last_two_rows]  # This selects elements up to the second-to-last element in each row\n",
        "\n",
        "print(last_two_columns)"
      ],
      "metadata": {
        "colab": {
          "base_uri": "https://localhost:8080/"
        },
        "id": "BDViFXrBPnsU",
        "outputId": "137d8a6a-ccc2-4cd7-a90d-27fc8291d6f6"
      },
      "execution_count": null,
      "outputs": [
        {
          "output_type": "stream",
          "name": "stdout",
          "text": [
            "[[40], [70]]\n"
          ]
        }
      ]
    },
    {
      "cell_type": "code",
      "source": [
        "import random\n",
        "\n",
        "# Generate a random array of 20 elements with values between 0 and 1\n",
        "random_array = [random.random() for _ in range(20)]\n",
        "\n",
        "print(random_array)"
      ],
      "metadata": {
        "colab": {
          "base_uri": "https://localhost:8080/"
        },
        "id": "_U0z7LsnPzvW",
        "outputId": "5448e5af-c12a-4df6-b470-be396c9f2e31"
      },
      "execution_count": null,
      "outputs": [
        {
          "output_type": "stream",
          "name": "stdout",
          "text": [
            "[0.9921742994199596, 0.6699560456830779, 0.9623977640004338, 0.23723775508028344, 0.5280575336103731, 0.9866718995616152, 0.6236881633225926, 0.36592225288547287, 0.2780825874181241, 0.5731469329256972, 0.7252969396597538, 0.9777676683505911, 0.5136767084263326, 0.8043494616201703, 0.31864132777165965, 0.5645274198711102, 0.43619665342223124, 0.6224207301683075, 0.21496162755548942, 0.21588281593387482]\n"
          ]
        }
      ]
    },
    {
      "cell_type": "code",
      "source": [
        "import numpy as np\n",
        "\n",
        "# Generate a 4x4 array with random integers between 10 and 20\n",
        "array = np.random.randint(10, 21, size=(4, 4))\n",
        "\n",
        "print(array)\n"
      ],
      "metadata": {
        "colab": {
          "base_uri": "https://localhost:8080/"
        },
        "id": "bCh6FYzhQH_4",
        "outputId": "5b5f8dd7-b725-45a3-cbbf-432140ec12ed"
      },
      "execution_count": null,
      "outputs": [
        {
          "output_type": "stream",
          "name": "stdout",
          "text": [
            "[[14 17 13 20]\n",
            " [12 13 10 10]\n",
            " [18 15 15 12]\n",
            " [20 12 17 15]]\n"
          ]
        }
      ]
    },
    {
      "cell_type": "code",
      "source": [
        "import numpy as np\n",
        "\n",
        "# Generate a 3x3 array with random floats between -1 and 1\n",
        "array = np.random.uniform(-1, 1, size=(3, 3))\n",
        "\n",
        "print(array)"
      ],
      "metadata": {
        "colab": {
          "base_uri": "https://localhost:8080/"
        },
        "id": "MMXUHjzkQQJL",
        "outputId": "158213df-578a-4a1c-d3e9-312147338944"
      },
      "execution_count": null,
      "outputs": [
        {
          "output_type": "stream",
          "name": "stdout",
          "text": [
            "[[-0.62932161 -0.22503244 -0.47724371]\n",
            " [ 0.55602241 -0.01038123  0.5778835 ]\n",
            " [-0.36290594  0.04954198  0.85356289]]\n"
          ]
        }
      ]
    },
    {
      "cell_type": "code",
      "source": [
        "import numpy as np\n",
        "\n",
        "# Generate an array of 15 random integers between 100 and 200\n",
        "array = np.random.randint(100, 201, size=15)\n",
        "\n",
        "print(array)"
      ],
      "metadata": {
        "colab": {
          "base_uri": "https://localhost:8080/"
        },
        "id": "qR3aZm1BQXwM",
        "outputId": "9301b1ad-d508-4240-b90f-3312e23f8671"
      },
      "execution_count": null,
      "outputs": [
        {
          "output_type": "stream",
          "name": "stdout",
          "text": [
            "[194 166 107 183 138 200 170 137 117 168 101 103 123 195 165]\n"
          ]
        }
      ]
    },
    {
      "cell_type": "code",
      "source": [
        "import numpy as np\n",
        "\n",
        "# Generate a 5x5 array with random floats between 0 and 10\n",
        "array = np.random.uniform(0, 10, size=(5, 5))\n",
        "\n",
        "print(array)"
      ],
      "metadata": {
        "colab": {
          "base_uri": "https://localhost:8080/"
        },
        "id": "EkW9Jcw_Qf3m",
        "outputId": "ac6d6993-602b-4ba7-efb1-17c24bddd3b8"
      },
      "execution_count": null,
      "outputs": [
        {
          "output_type": "stream",
          "name": "stdout",
          "text": [
            "[[8.73989549 9.98168868 6.6190388  6.39556593 1.43612529]\n",
            " [0.86518886 9.42116942 4.47258851 9.1612094  0.20402643]\n",
            " [5.10100418 0.33523216 8.58355501 9.9049259  2.56919385]\n",
            " [4.91788652 0.22513901 8.55784249 8.85973415 8.33734562]\n",
            " [6.95381472 9.3769039  0.14755074 9.87230402 5.2745703 ]]\n"
          ]
        }
      ]
    },
    {
      "cell_type": "code",
      "source": [
        "import numpy as np\n",
        "\n",
        "# Define arrays a and b\n",
        "a = np.array([[1, 2], [3, 4]])\n",
        "b = np.array([[5, 6], [7, 8]])\n",
        "\n",
        "# Vertically stack arrays a and b\n",
        "result = np.vstack((a, b))\n",
        "\n",
        "print(result)"
      ],
      "metadata": {
        "colab": {
          "base_uri": "https://localhost:8080/"
        },
        "id": "xVNoBP4_Qs9l",
        "outputId": "867f34fa-0b0e-4cb7-ff19-02ec463e957c"
      },
      "execution_count": null,
      "outputs": [
        {
          "output_type": "stream",
          "name": "stdout",
          "text": [
            "[[1 2]\n",
            " [3 4]\n",
            " [5 6]\n",
            " [7 8]]\n"
          ]
        }
      ]
    },
    {
      "cell_type": "code",
      "source": [
        "import numpy as np\n",
        "\n",
        "# Define arrays a and b\n",
        "a = np.array([[1, 2], [3, 4]])\n",
        "b = np.array([[5, 6], [7, 8]])\n",
        "\n",
        "# Horizontally stack arrays a and b\n",
        "result = np.hstack((a, b))\n",
        "\n",
        "print(result)"
      ],
      "metadata": {
        "colab": {
          "base_uri": "https://localhost:8080/"
        },
        "id": "Pxmz9bQbQ2KJ",
        "outputId": "90daffe5-a69b-4fe2-9050-4c52968e5918"
      },
      "execution_count": null,
      "outputs": [
        {
          "output_type": "stream",
          "name": "stdout",
          "text": [
            "[[1 2 5 6]\n",
            " [3 4 7 8]]\n"
          ]
        }
      ]
    },
    {
      "cell_type": "code",
      "source": [
        "import numpy as np\n",
        "\n",
        "# Define arrays a and b as 1D NumPy arrays\n",
        "a = np.array([1, 2, 3])\n",
        "b = np.array([4, 5, 6])\n",
        "\n",
        "# Concatenate arrays a and b\n",
        "result = np.concatenate((a, b))\n",
        "\n",
        "print(result)"
      ],
      "metadata": {
        "colab": {
          "base_uri": "https://localhost:8080/"
        },
        "id": "eJEvy_EaRBWm",
        "outputId": "383b9091-4e2e-421b-e8f3-6a01b589daa8"
      },
      "execution_count": null,
      "outputs": [
        {
          "output_type": "stream",
          "name": "stdout",
          "text": [
            "[1 2 3 4 5 6]\n"
          ]
        }
      ]
    },
    {
      "cell_type": "code",
      "source": [
        "import numpy as np\n",
        "\n",
        "# Define arrays a and b\n",
        "a = np.array([[1, 2, 3],\n",
        "              [4, 5, 6],\n",
        "              [7, 8, 9]])\n",
        "\n",
        "b = np.array([[10, 11, 12],\n",
        "              [13, 14, 15],\n",
        "              [16, 17, 18]])\n",
        "\n",
        "# Concatenate arrays a and b along rows (vertically)\n",
        "result = np.concatenate((a, b), axis=0)\n",
        "\n",
        "print(result)\n"
      ],
      "metadata": {
        "colab": {
          "base_uri": "https://localhost:8080/"
        },
        "id": "o9TjccbdROXZ",
        "outputId": "a18341a6-b2c6-4edd-bd9c-334a9ee2bf7f"
      },
      "execution_count": null,
      "outputs": [
        {
          "output_type": "stream",
          "name": "stdout",
          "text": [
            "[[ 1  2  3]\n",
            " [ 4  5  6]\n",
            " [ 7  8  9]\n",
            " [10 11 12]\n",
            " [13 14 15]\n",
            " [16 17 18]]\n"
          ]
        }
      ]
    },
    {
      "cell_type": "code",
      "source": [
        "import numpy as np\n",
        "\n",
        "# Define arrays a and b\n",
        "a = np.array([[1, 2, 3],\n",
        "              [4, 5, 6],\n",
        "              [7, 8, 9]])\n",
        "\n",
        "b = np.array([[10, 11, 12],\n",
        "              [13, 14, 15],\n",
        "              [16, 17, 18]])\n",
        "\n",
        "# Concatenate arrays a and b along columns (horizontally)\n",
        "result = np.concatenate((a, b), axis=1)\n",
        "\n",
        "print(result)\n"
      ],
      "metadata": {
        "id": "jXVSdv-oRX2_",
        "outputId": "af49941d-653f-4464-fb00-66cfdfcba6f9",
        "colab": {
          "base_uri": "https://localhost:8080/"
        }
      },
      "execution_count": null,
      "outputs": [
        {
          "output_type": "stream",
          "name": "stdout",
          "text": [
            "[[ 1  2  3 10 11 12]\n",
            " [ 4  5  6 13 14 15]\n",
            " [ 7  8  9 16 17 18]]\n"
          ]
        }
      ]
    }
  ]
}